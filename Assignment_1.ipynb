{
  "nbformat": 4,
  "nbformat_minor": 0,
  "metadata": {
    "colab": {
      "provenance": []
    },
    "kernelspec": {
      "name": "python3",
      "display_name": "Python 3"
    },
    "language_info": {
      "name": "python"
    }
  },
  "cells": [
    {
      "cell_type": "markdown",
      "source": [
        "# Python Basics Questions\n"
      ],
      "metadata": {
        "id": "4FGyawUvVOh1"
      }
    },
    {
      "cell_type": "markdown",
      "source": [
        "1.  What is Python, and why is it popular ?\n",
        "    - Python is an interpreted programming language. It is one of the most widely used languages because of its simplicity, readability and open-source nature, which allows anyone to contribute to its development and libraries.\n",
        "\n",
        "2.  What is an interpreter in Python\n",
        "    - interpreter is a programm in python that read and execute the program line by line instead of reading full code in a once.very much Unlike to compiler.\n",
        "\n",
        "3.  What are pre-defined keywords in Python ?\n",
        "    -  Python keywords are reserved words that have predefined meanings and functionalities in the language.\n",
        "4.  Can keywords be used as variable names ?\n",
        "    - No,keywords cannot be used as variable name because those words already have some meaning and functionality.\n",
        "\n",
        "5.  What is mutability in Python ?\n",
        "    - mutability is a term used to describe the action of changing and updating the values of an object after it's creation.\n",
        "\n",
        "6.  Why are lists mutable, but tuples are immutable ?\n",
        "    - list is a mutable data structure while tuples are not because list have flexible memory structure that allow updating or changing elements.\n",
        "\n",
        "    - on the otherhands, tuples have fixed memory structure that does not allow to change objects.\n",
        "\n",
        "7.  What is the difference between “==” and “is” operators in Python?\n",
        "    - \"==\" is know as the Equality operator. It checks whether the 2 objects have same value or not.\n",
        "    - \"is\" it's a identity operator use to check whether the objects have the same memory.\n",
        "\n",
        "8.   What are logical operators in Python?\n",
        "     - logical operator's are used to combine conditional statements and give the output in True and False.\n",
        "\n",
        "9.   What is type casting in Python?\n",
        "     - type casting and type conversion is a method to convert one datatype to another datatype.\n",
        "\n",
        "10.   What is the difference between implicit and explicit type casting ?\n",
        "      - Implicit type casting performed by the python itself no user interaction needed. Eg -> int + float = float.\n",
        "      - Explicit type casting when conversion of data type performed by the user itself. Eg- int() to str().\n",
        "\n",
        "11.   What is the purpose of conditional statements in Python ?\n",
        "      - Conditional statements in Python are used to execute certain blocks of code only if specific conditions are true. They allow the program to make decisions based on different situations.\n",
        "\n",
        "12.  How does the elif statement work ?\n",
        "     - elif statement used when there are more than 2 statements to check. multiple conditions checked by using elif.\n",
        "\n",
        "13.   What is the difference between for and while loops ?\n",
        "      - for loop is used to iterate over the sequence of numbers in any range or over a data structures like list,tuples etc.\n",
        "      - while loop is used to iterate until the specified condtion is became false and loops break.\n",
        "\n",
        "14.  Describe a scenario where a while loop is more suitable than a for loop.\n",
        "     - To print multiples of 4 until 20, we can use a while loop that continues as long as the value is ≤ 20."
      ],
      "metadata": {
        "id": "rfMkym9hVYcY"
      }
    },
    {
      "cell_type": "markdown",
      "source": [
        "# PRACTICAL QUESTIONS"
      ],
      "metadata": {
        "id": "XjwcV5dto6_h"
      }
    },
    {
      "cell_type": "code",
      "source": [
        "# 1 Write a Python program to print \"Hello, World!y\n",
        "print(\"Hello, World!\")\n"
      ],
      "metadata": {
        "colab": {
          "base_uri": "https://localhost:8080/"
        },
        "id": "3OQS5lqBVOJ3",
        "outputId": "0e5c9071-792a-46fe-85db-50656eb55e14"
      },
      "execution_count": 6,
      "outputs": [
        {
          "output_type": "stream",
          "name": "stdout",
          "text": [
            "Hello, World!\n"
          ]
        }
      ]
    },
    {
      "cell_type": "code",
      "source": [
        "# 2 Write a Python program that displays your name and age\n",
        "name = \"amit\";\n",
        "age = 21\n",
        "\n",
        "print(name,age)"
      ],
      "metadata": {
        "colab": {
          "base_uri": "https://localhost:8080/"
        },
        "id": "wJXW9r4ooYK7",
        "outputId": "5c3b43f5-d36e-48e7-8488-09b405bace93"
      },
      "execution_count": 8,
      "outputs": [
        {
          "output_type": "stream",
          "name": "stdout",
          "text": [
            "name = amit age =  21\n"
          ]
        }
      ]
    },
    {
      "cell_type": "code",
      "source": [
        "# 3 Write code to print all the pre-defined keywords in Python using the keyword library8\n",
        "import keyword\n",
        "print(keyword.kwlist)"
      ],
      "metadata": {
        "colab": {
          "base_uri": "https://localhost:8080/"
        },
        "collapsed": true,
        "id": "GVWUXS4poviO",
        "outputId": "f4c16106-dadf-4a47-a85f-ae4ebc9cdbc8"
      },
      "execution_count": 9,
      "outputs": [
        {
          "output_type": "stream",
          "name": "stdout",
          "text": [
            "['False', 'None', 'True', 'and', 'as', 'assert', 'async', 'await', 'break', 'class', 'continue', 'def', 'del', 'elif', 'else', 'except', 'finally', 'for', 'from', 'global', 'if', 'import', 'in', 'is', 'lambda', 'nonlocal', 'not', 'or', 'pass', 'raise', 'return', 'try', 'while', 'with', 'yield']\n"
          ]
        }
      ]
    },
    {
      "cell_type": "code",
      "source": [
        "# 4 Write a program that checks if a given word is a Python keyword.\n",
        "import keyword\n",
        "print(keyword.iskeyword(\"if\"))"
      ],
      "metadata": {
        "id": "tYQgjyPio4d0"
      },
      "execution_count": null,
      "outputs": []
    },
    {
      "cell_type": "code",
      "source": [
        "# 5 Create a list and tuple in Python, and demonstrate how attempting to change an element works differently for each.\n",
        "# list\n",
        "number = [1,2,3,4,5]\n",
        "number[0] = 10\n",
        "print(number)\n",
        "\n",
        "#tuple\n",
        "numbers = (1,2,3,4,5)\n",
        "numbers[0] = 10\n",
        "print(numbers)\n"
      ],
      "metadata": {
        "id": "IIdhntoApMnI"
      },
      "execution_count": null,
      "outputs": []
    },
    {
      "cell_type": "code",
      "source": [
        "# 6  Write a function to demonstrate the behavior of mutable and immutable arguments.\n",
        "\n",
        "def change_values(a, b):\n",
        "    a = a + 5\n",
        "    b.append(5)\n",
        "    print(\"Inside:\", a, b)\n",
        "\n",
        "x = 10\n",
        "y = [1, 2, 3]\n",
        "\n",
        "change_values(x, y)\n",
        "\n",
        "print(\"Outside:\", x, y)\n"
      ],
      "metadata": {
        "colab": {
          "base_uri": "https://localhost:8080/"
        },
        "id": "N3QQBVDhplYB",
        "outputId": "dba273da-f85c-48a5-f2fc-d8c1fc58b6fc"
      },
      "execution_count": 13,
      "outputs": [
        {
          "output_type": "stream",
          "name": "stdout",
          "text": [
            "Inside: 15 [1, 2, 3, 5]\n",
            "Outside: 10 [1, 2, 3, 5]\n"
          ]
        }
      ]
    },
    {
      "cell_type": "code",
      "source": [
        "# 7  Write a program that performs basic arithmetic operations on two user-input numbers.\n",
        "num1 = int(input(\"enter first number\"))\n",
        "num2 = int(input(\"enter second number\"))\n",
        "\n",
        "print(num1+num2)\n",
        "print(num1-num2)\n",
        "print(num1*num2)\n",
        "print(num1/num2)"
      ],
      "metadata": {
        "id": "Keu1aw_DqBAf"
      },
      "execution_count": null,
      "outputs": []
    },
    {
      "cell_type": "code",
      "source": [
        "# 8 Write a program to demonstrate the use of logical operators.\n",
        "a = 10\n",
        "b = 20\n",
        "if a > 5 and b < 30:\n",
        "    print(\"a is greater than 5 and b is less than 30\")"
      ],
      "metadata": {
        "colab": {
          "base_uri": "https://localhost:8080/"
        },
        "id": "SztaTRwoqX9d",
        "outputId": "a6074074-badf-4f41-bce1-99eb4e5d6dc5"
      },
      "execution_count": 14,
      "outputs": [
        {
          "output_type": "stream",
          "name": "stdout",
          "text": [
            "a is greater than 5 and b is less than 30\n"
          ]
        }
      ]
    },
    {
      "cell_type": "code",
      "source": [
        "# 9 Write a Python program to convert user input from string to integer, float, and boolean types.\n",
        "string = input(\"enter a string\")\n",
        "print(int(string))\n",
        "print(float(string))\n",
        "print(bool(string))"
      ],
      "metadata": {
        "id": "3mabMrBmqst0"
      },
      "execution_count": null,
      "outputs": []
    },
    {
      "cell_type": "code",
      "source": [
        "# 10 . Write code to demonstrate type casting with list elements.\n",
        "string = \"amit\"\n",
        "print(list(string))"
      ],
      "metadata": {
        "colab": {
          "base_uri": "https://localhost:8080/"
        },
        "id": "307c9UZbq6sF",
        "outputId": "b432b9cf-1916-4e55-ede5-e2e8b4c518f5"
      },
      "execution_count": 15,
      "outputs": [
        {
          "output_type": "stream",
          "name": "stdout",
          "text": [
            "['a', 'm', 'i', 't']\n"
          ]
        }
      ]
    },
    {
      "cell_type": "code",
      "source": [
        "# 11 Write a program that checks if a number is positive, negative, or zero.\n",
        "a= int(input(\"enter a number\"))\n",
        "if a>0:\n",
        "    print(\"positive\")\n",
        "elif a<0:\n",
        "    print(\"negative\")\n",
        "else:\n",
        "    print(\"zero\")\n"
      ],
      "metadata": {
        "id": "_6HXG_bOrClz"
      },
      "execution_count": null,
      "outputs": []
    },
    {
      "cell_type": "code",
      "source": [
        "# 12 Write a for loop to print numbers from 1 to 10.\n",
        "for i in range(1,11):\n",
        "    print(i)"
      ],
      "metadata": {
        "id": "lXwH6eb2rN4O"
      },
      "execution_count": null,
      "outputs": []
    },
    {
      "cell_type": "code",
      "source": [
        "# 13  Write a Python program to find the sum of all even numbers between 1 and 50.\n",
        "sum = 0\n",
        "for i in range(1,51):\n",
        "    if i%2 == 0:\n",
        "        sum += i\n",
        "print(sum)\n"
      ],
      "metadata": {
        "colab": {
          "base_uri": "https://localhost:8080/"
        },
        "id": "4OIPjUpWrTYj",
        "outputId": "547c1644-839c-4ab0-b3de-f495375a74c4"
      },
      "execution_count": 16,
      "outputs": [
        {
          "output_type": "stream",
          "name": "stdout",
          "text": [
            "650\n"
          ]
        }
      ]
    },
    {
      "cell_type": "code",
      "source": [
        "# Input string\n",
        "string = \"Amit\"\n",
        "reversed_string = \"\"\n",
        "index = len(string) - 1\n",
        "\n",
        "while index >= 0:\n",
        "    reversed_string += string[index]\n",
        "    index -= 1\n",
        "\n",
        "print(\"Reversed string:\", reversed_string)\n"
      ],
      "metadata": {
        "colab": {
          "base_uri": "https://localhost:8080/"
        },
        "id": "lDQ0xpr_rvnS",
        "outputId": "08c7e46d-8720-43e6-b000-8fc34b703fdc"
      },
      "execution_count": 19,
      "outputs": [
        {
          "output_type": "stream",
          "name": "stdout",
          "text": [
            "Reversed string: timA\n"
          ]
        }
      ]
    },
    {
      "cell_type": "code",
      "source": [
        "# 15  Write a Python program to calculate the factorial of a number provided by the user using a while loop.\n",
        "num = int(input(\"enter a number\"))\n",
        "fact = 1\n",
        "while num > 0:\n",
        "    fact *= num\n",
        "    num -= 1\n",
        "print(fact)"
      ],
      "metadata": {
        "colab": {
          "base_uri": "https://localhost:8080/"
        },
        "id": "-LctCMJQsRIU",
        "outputId": "64b0f57c-5471-45bf-a2cf-4d95fe3c97fb"
      },
      "execution_count": 22,
      "outputs": [
        {
          "output_type": "stream",
          "name": "stdout",
          "text": [
            "enter a number5\n",
            "120\n"
          ]
        }
      ]
    }
  ]
}