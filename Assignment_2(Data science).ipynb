{
  "nbformat": 4,
  "nbformat_minor": 0,
  "metadata": {
    "colab": {
      "provenance": []
    },
    "kernelspec": {
      "name": "python3",
      "display_name": "Python 3"
    },
    "language_info": {
      "name": "python"
    }
  },
  "cells": [
    {
      "cell_type": "markdown",
      "source": [
        "# THEORITICAL QUESTIONS\n",
        "\n",
        "1. What are data structures, and why are they important?\n",
        "- Data structures are ways to store and organize data efficiently in a computer so that it can be accessed, modified, and used effectively. They are important because they help in optimizing performance, managing memory efficiently, and solving complex problems more easily.\n",
        "\n",
        "2. Explain the difference between mutable and immutable data types with examples.\n",
        " - Mutable data types are those whose values can be changed or updated after creation. Examples include lists, dictionaries, and sets.\n",
        " - Immutable data types are those whose values cannot be changed once assigned. Examples include tuples, strings, and integers.\n",
        "\n",
        " 3. What are the main differences between lists and tuples in Python?\n",
        " - Lists can contain multiple items of different data types and are mutable, meaning their elements can be changed.\n",
        " - Tuples can also contain multiple items of different data types but are immutable, meaning their elements cannot be changed after creation.\n",
        " - Tuples use less memory than lists because they are immutable and have a simpler structure.\n",
        "\n",
        " 4. Describe how dictionaries store data?\n",
        "- Dictionaries store data in the form of key–value pairs, where each key has an associated value. They are defined using curly braces {}. Dictionaries use hashing internally, which allows fast access, insertion, and deletion of elements.\n",
        "\n",
        "5. Why might you use a set instead of a list in Python?\n",
        "- When we need to store only unique values and ensure that no duplicates exist in our data, we should use a set instead of a list, because a set automatically removes duplicate elements and only keeps unique items.\n",
        "\n",
        "6. What is a string in Python, and how is it different from a list?\n",
        "- A string in Python is a data type used to represent a sequence of characters. Strings are written inside single quotes (' ') or double quotes (\" \").\n",
        "- A list, on the other hand, is a data structure that can store multiple items of different data types (such as numbers, strings, or even other lists). Lists are written inside square brackets [ ].\n",
        "- string are immutable where as lists are mutable.\n",
        "- Strings can only contain characters, whereas lists can contain any type of data.\n",
        "\n",
        "7. How do tuples ensure data integrity in Python ?\n",
        "- Tuples ensure data integrity in Python because they are immutable, meaning once a tuple is created, its elements cannot be changed, added, or removed. This immutability prevents accidental modification of data, ensuring that the stored information remains consistent and reliable throughout the program.\n",
        "\n",
        "8. What is a hash table, and how does it relate to dictionaries in Python?\n",
        " - A hash table is a data structure that stores data in key value pairs and uses a hash function to compute an index (called a hash value) for each key. This allows for very fast data lookup, insertion, and deletion.\n",
        "\n",
        "9. Can lists contain different data types in Python?\n",
        " - Yes, lists does contain different data types and can easily acciseable.\n",
        "\n",
        "10. Explain why strings are immutable in Python?\n",
        " - This immutability ensures data integrity and prevents accidental modification of string values during program execution. It also allows Python to store and reuse strings efficiently in memory (through a process called interning) and makes strings safe to use as keys in dictionaries or elements in sets since their hash value remains constant.\n",
        "\n",
        " 11. What advantages do dictionaries offer over lists for certain tasks?\n",
        "  - Dictionaries offer several advantages over lists, especially when data is organized in key-value pairs. They allow fast access to values using keys in constant time, whereas lists may require searching through elements, which is less efficient. Dictionaries store the relationship between keys and values clearly, making them ideal for data like student names and roll numbers, or product IDs and prices. Unlike lists, there is no need to track indices, and key-value pairs can be easily added, updated, or deleted without reorganizing the entire structure. Additionally, dictionary keys can be strings, numbers, or tuples, providing flexibility for real-world mapping tasks. Overall, dictionaries are faster, more convenient, and more suitable than lists when quick lookup and clear associations between data elements are required.\n",
        "\n",
        "12. Describe a scenario where using a tuple would be preferable over a list?\n",
        "- A tuple would be preferable over a list when you need to store a collection of items that should not change throughout the program. eg- consider storing the latitude and longitude of a location.\n",
        "\n",
        "13. How do sets handle duplicate values in Python?\n",
        "- set internally handels the duplicate values by ignoring the repeated values.f you try to add a value that already exists in a set, Python will ignore it and not create a duplicate.\n",
        "\n",
        " 14. How does the “in” keyword work differently for lists and dictionaries?\n",
        "- \"in\" is a membership operator used in lists to search whether the element is presented or not. while,In dictionaries \"in\" checks if a key exists in the dictionary, not the value.\n",
        "\n",
        "15.  Can you modify the elements of a tuple? Explain why or why not?\n",
        "- No,we cannot modify the elements of tuples once it created it cannot be changed,replace,remove as tuples are immutable.This immutability ensures data integrity, allows tuples to be used as keys in dictionaries, and makes them more memory-efficient compared to lists.\n",
        "\n",
        "16. What is a nested dictionary, and give an example of its use case?\n",
        "- nested dictionary means dictionary inside the another dictionary means one dictionary itself conatin the another dictionary.\n",
        "- eg - let's assume we need to store the students marks of diffrent subjects with their names.\n",
        "\n",
        "17. Describe the time complexity of accessing elements in a dictionary?\n",
        "- o(1) dictionaries are implemented using hash tables, which allow Python to compute the hash of the key and directly locate the corresponding value in memory without scanning all elements.\n",
        "\n",
        "18. In what situations are lists preferred over dictionaries?\n",
        "- Lists are preferred over dictionaries when the data is not organized in key–value pairs and can be accessed sequentially without hashing. They are suitable for ordered collections where you mainly need to store and retrieve items by position rather than by a key.\n",
        "- eg - we need to retrive just the names of the students.\n",
        "\n",
        "19. Why are dictionaries considered unordered, and how does that affect data retrieval?\n",
        "- because they do not maintain any guaranteed order of their keys; the internal storage is based on a hash table rather than sequence positions. This means you cannot rely on the order of items when iterating over a dictionary.\n",
        "- You access values using keys, not positions, so retrieval is fast.\n",
        "- ou cannot assume the first key added will come first when looping over the dictionary as the order of key is not sequential.\n",
        "\n",
        "20. Explain the difference between a list and a dictionary in terms of data retrieval.\n",
        "- The main difference between a list and a dictionary in terms of data retrieval lies in how elements are accessed:\n",
        "\n",
        "List: Elements are accessed by index, so retrieving an element by position is O(1). However, operations like searching for a value, inserting, or deleting at arbitrary positions are slower, with O(n) time complexity, because Python may need to shift elements.\n",
        "\n",
        "Dictionary: Elements are accessed by keys using a hash table, which allows average O(1) time complexity for retrieval. This makes dictionaries much faster than lists when you need to look up data by a key.\n",
        "\n"
      ],
      "metadata": {
        "id": "xDXXxDZ0YlWy"
      }
    },
    {
      "cell_type": "markdown",
      "source": [
        "# Practical Questions"
      ],
      "metadata": {
        "id": "6T1jhyEuuYWT"
      }
    },
    {
      "cell_type": "code",
      "source": [
        "# 1. Write a code to create a string with your name and print it\n",
        "name = \"Amit\"\n",
        "print(name)"
      ],
      "metadata": {
        "colab": {
          "base_uri": "https://localhost:8080/"
        },
        "id": "laXro99BuLeX",
        "outputId": "5087e362-74bd-4404-eca2-6353608cce3f"
      },
      "execution_count": 1,
      "outputs": [
        {
          "output_type": "stream",
          "name": "stdout",
          "text": [
            "Amit\n"
          ]
        }
      ]
    },
    {
      "cell_type": "code",
      "source": [
        "# 2. Write a code to find the length of the string \"Hello World\"\n",
        "string = \"Hello World\""
      ],
      "metadata": {
        "id": "SfBb0NOrulUQ"
      },
      "execution_count": null,
      "outputs": []
    },
    {
      "cell_type": "code",
      "source": [
        "# 3. Write a code to slice the first 3 characters from the string \"Python Programming\"\n",
        "string = \"Python Programming\"\n",
        "print(string[:3])"
      ],
      "metadata": {
        "colab": {
          "base_uri": "https://localhost:8080/"
        },
        "id": "a4Ol-EPtuqrf",
        "outputId": "85372e78-38b7-4043-c82b-540caf1ba49e"
      },
      "execution_count": 2,
      "outputs": [
        {
          "output_type": "stream",
          "name": "stdout",
          "text": [
            "Pyt\n"
          ]
        }
      ]
    },
    {
      "cell_type": "code",
      "source": [
        "#4. Write a code to convert the string \"hello\" to uppercase\n",
        "string = \"hello\"\n",
        "string.upper()"
      ],
      "metadata": {
        "colab": {
          "base_uri": "https://localhost:8080/",
          "height": 35
        },
        "id": "0rVcJAj8u0rT",
        "outputId": "adb6c3a1-e9ce-4d1c-822e-d8ab157cdc9f"
      },
      "execution_count": 3,
      "outputs": [
        {
          "output_type": "execute_result",
          "data": {
            "text/plain": [
              "'HELLO'"
            ],
            "application/vnd.google.colaboratory.intrinsic+json": {
              "type": "string"
            }
          },
          "metadata": {},
          "execution_count": 3
        }
      ]
    },
    {
      "cell_type": "code",
      "source": [
        "# 5. Write a code to replace the word \"apple\" with \"orange\" in the string \"I like apple\"\n",
        "string = \"I like apple\"\n",
        "string.replace(\"apple\", \"orange\")"
      ],
      "metadata": {
        "colab": {
          "base_uri": "https://localhost:8080/",
          "height": 35
        },
        "id": "3DDdr5LTu7gC",
        "outputId": "0e276d39-df8c-4ffa-f549-431af130c1e8"
      },
      "execution_count": 4,
      "outputs": [
        {
          "output_type": "execute_result",
          "data": {
            "text/plain": [
              "'I like orange'"
            ],
            "application/vnd.google.colaboratory.intrinsic+json": {
              "type": "string"
            }
          },
          "metadata": {},
          "execution_count": 4
        }
      ]
    },
    {
      "cell_type": "code",
      "source": [
        "#6 . Write a code to create a list with numbers 1 to 5 and print it\n",
        "list = [1,2,3,4,5]\n",
        "print(list)"
      ],
      "metadata": {
        "colab": {
          "base_uri": "https://localhost:8080/"
        },
        "id": "3jiSakDOvJlD",
        "outputId": "313f54ad-8f38-47ca-8b1f-202252691c1f"
      },
      "execution_count": 5,
      "outputs": [
        {
          "output_type": "stream",
          "name": "stdout",
          "text": [
            "[1, 2, 3, 4, 5]\n"
          ]
        }
      ]
    },
    {
      "cell_type": "code",
      "source": [
        "# 7. Write a code to append the number 10 to the list [1, 2, 3, 4]\n",
        "list = [1,2,3,4]\n",
        "list.append(10)\n",
        "print(list)"
      ],
      "metadata": {
        "colab": {
          "base_uri": "https://localhost:8080/"
        },
        "id": "pCWn5wK9vSvQ",
        "outputId": "7bafc2d9-acd7-4439-aa96-5a31d6477251"
      },
      "execution_count": 8,
      "outputs": [
        {
          "output_type": "stream",
          "name": "stdout",
          "text": [
            "[1, 2, 3, 4, 10]\n"
          ]
        }
      ]
    },
    {
      "cell_type": "code",
      "source": [
        "# 8. Write a code to remove the number 3 from the list [1, 2, 3, 4, 5]\n",
        "list = [1,2,3,4,5]\n",
        "list.remove(3)\n",
        "print(list)"
      ],
      "metadata": {
        "colab": {
          "base_uri": "https://localhost:8080/"
        },
        "id": "iYY8ut8Pv49E",
        "outputId": "04e52edd-625c-431d-dc20-8cb5825db836"
      },
      "execution_count": 9,
      "outputs": [
        {
          "output_type": "stream",
          "name": "stdout",
          "text": [
            "[1, 2, 4, 5]\n"
          ]
        }
      ]
    },
    {
      "cell_type": "code",
      "source": [
        "#9. Write a code to access the second element in the list ['a', 'b', 'c', 'd']\n",
        "list = ['a', 'b', 'c', 'd']\n",
        "list[1]"
      ],
      "metadata": {
        "colab": {
          "base_uri": "https://localhost:8080/",
          "height": 35
        },
        "id": "94M97GDdv_yz",
        "outputId": "c6477960-5d7a-4003-fd3b-ab6aa2a380ac"
      },
      "execution_count": 11,
      "outputs": [
        {
          "output_type": "execute_result",
          "data": {
            "text/plain": [
              "'b'"
            ],
            "application/vnd.google.colaboratory.intrinsic+json": {
              "type": "string"
            }
          },
          "metadata": {},
          "execution_count": 11
        }
      ]
    },
    {
      "cell_type": "code",
      "source": [
        "#10.  Write a code to reverse the list [10, 20, 30, 40, 50].\n",
        "list = [10, 20, 30, 40, 50]\n",
        "list[::-1]"
      ],
      "metadata": {
        "colab": {
          "base_uri": "https://localhost:8080/"
        },
        "id": "C0XcW0G7wQoX",
        "outputId": "8b076687-1356-4fa1-a809-3b2a864560ee"
      },
      "execution_count": 12,
      "outputs": [
        {
          "output_type": "execute_result",
          "data": {
            "text/plain": [
              "[50, 40, 30, 20, 10]"
            ]
          },
          "metadata": {},
          "execution_count": 12
        }
      ]
    },
    {
      "cell_type": "code",
      "source": [
        "#11.  Write a code to create a tuple with the elements 100, 200, 300 and print it.\n",
        "tuple = (100,200,300)\n",
        "print(tuple)"
      ],
      "metadata": {
        "colab": {
          "base_uri": "https://localhost:8080/"
        },
        "id": "yCKzx9MSwYuq",
        "outputId": "fe856efc-8492-4276-8fca-c3ccf6191f9a"
      },
      "execution_count": 13,
      "outputs": [
        {
          "output_type": "stream",
          "name": "stdout",
          "text": [
            "(100, 200, 300)\n"
          ]
        }
      ]
    },
    {
      "cell_type": "code",
      "source": [
        "#12. Write a code to access the second-to-last element of the tuple ('red', 'green', 'blue', 'yellow').\n",
        "tuple = ('red', 'green', 'blue', 'yellow')\n",
        "tuple[-2]"
      ],
      "metadata": {
        "colab": {
          "base_uri": "https://localhost:8080/",
          "height": 35
        },
        "id": "0_-qoQlLwov4",
        "outputId": "43a3d9ca-47fb-4a57-9547-269ad56c781e"
      },
      "execution_count": 16,
      "outputs": [
        {
          "output_type": "execute_result",
          "data": {
            "text/plain": [
              "'blue'"
            ],
            "application/vnd.google.colaboratory.intrinsic+json": {
              "type": "string"
            }
          },
          "metadata": {},
          "execution_count": 16
        }
      ]
    },
    {
      "cell_type": "code",
      "source": [
        "# 13. Write a code to find the minimum number in the tuple (10, 20, 5, 15).\n",
        "tuple = (10, 20, 5, 15)\n",
        "min(tuple)\n",
        "\n"
      ],
      "metadata": {
        "colab": {
          "base_uri": "https://localhost:8080/"
        },
        "id": "sBnrMC_BxBoX",
        "outputId": "9839931d-8eb9-4c47-a66b-6cd775336246"
      },
      "execution_count": 17,
      "outputs": [
        {
          "output_type": "execute_result",
          "data": {
            "text/plain": [
              "5"
            ]
          },
          "metadata": {},
          "execution_count": 17
        }
      ]
    },
    {
      "cell_type": "code",
      "source": [
        "# 14. Write a code to find the index of the element \"cat\" in the tuple ('dog', 'cat', 'rabbit').\n",
        "tuple = ('dog', 'cat', 'rabbit')\n",
        "tuple.index(\"cat\")\n"
      ],
      "metadata": {
        "colab": {
          "base_uri": "https://localhost:8080/"
        },
        "id": "EFO0I2CyxioF",
        "outputId": "5cdde9e5-2f8c-455c-f416-a4fb58265e8e"
      },
      "execution_count": 18,
      "outputs": [
        {
          "output_type": "execute_result",
          "data": {
            "text/plain": [
              "1"
            ]
          },
          "metadata": {},
          "execution_count": 18
        }
      ]
    },
    {
      "cell_type": "code",
      "source": [
        "#15. Write a code to create a tuple containing three different fruits and check if \"kiwi\" is in it.\n",
        "tuple = ('apple', 'banana', 'orange')\n",
        "\"kiwi\" in tuple"
      ],
      "metadata": {
        "colab": {
          "base_uri": "https://localhost:8080/"
        },
        "id": "VPuPhXK0xwTk",
        "outputId": "be8bd2d4-cc33-42c1-9b89-61919ea19e65"
      },
      "execution_count": 19,
      "outputs": [
        {
          "output_type": "execute_result",
          "data": {
            "text/plain": [
              "False"
            ]
          },
          "metadata": {},
          "execution_count": 19
        }
      ]
    },
    {
      "cell_type": "code",
      "source": [
        "#16.Write a code to create a set with the elements 'a', 'b', 'c' and print it.\n",
        "set = {'a', 'b', 'c'}\n",
        "print(set)\n"
      ],
      "metadata": {
        "id": "mWMN3bk1yFA1"
      },
      "execution_count": null,
      "outputs": []
    },
    {
      "cell_type": "code",
      "source": [
        "#17. Write a code to clear all elements from the set {1, 2, 3, 4, 5}.\n",
        "set = {1, 2, 3, 4, 5}\n",
        "set.clear()\n",
        "print(set)\n"
      ],
      "metadata": {
        "id": "pO-KLbt6yPBL"
      },
      "execution_count": null,
      "outputs": []
    },
    {
      "cell_type": "code",
      "source": [
        "#18.  Write a code to remove the element 4 from the set {1, 2, 3, 4}.\n",
        "set = {1, 2, 3, 4}\n",
        "set.remove(4)\n",
        "print(set)"
      ],
      "metadata": {
        "id": "k5g0G7OiyVmu"
      },
      "execution_count": null,
      "outputs": []
    },
    {
      "cell_type": "code",
      "source": [
        "#19. Write a code to find the union of two sets {1, 2, 3} and {3, 4, 5}.\n",
        "set1 = {1, 2, 3}\n",
        "set2 = {3, 4, 5}\n",
        "set1.union(set2)"
      ],
      "metadata": {
        "colab": {
          "base_uri": "https://localhost:8080/"
        },
        "id": "oVIG4Yl7youv",
        "outputId": "3d62c18c-22bb-41a4-a7ad-056a2a545361"
      },
      "execution_count": 20,
      "outputs": [
        {
          "output_type": "execute_result",
          "data": {
            "text/plain": [
              "{1, 2, 3, 4, 5}"
            ]
          },
          "metadata": {},
          "execution_count": 20
        }
      ]
    },
    {
      "cell_type": "code",
      "source": [
        "#20. Write a code to find the intersection of two sets {1, 2, 3} and {2, 3, 4}.\n",
        "set1 = {1, 2, 3}\n",
        "set2 = {3, 4, 5}\n",
        "set1.intersection(set2)"
      ],
      "metadata": {
        "colab": {
          "base_uri": "https://localhost:8080/"
        },
        "id": "Pl45W82Ny2nz",
        "outputId": "80fdd5ac-2526-44fe-cdc8-beffb229be88"
      },
      "execution_count": 21,
      "outputs": [
        {
          "output_type": "execute_result",
          "data": {
            "text/plain": [
              "{3}"
            ]
          },
          "metadata": {},
          "execution_count": 21
        }
      ]
    },
    {
      "cell_type": "code",
      "source": [
        "#21. Write a code to create a dictionary with the keys \"name\", \"age\", and \"city\", and print it.\n",
        "dict = {\"name\": \"Amit\", \"age\": 20, \"city\": \"Delhi\"}\n",
        "print(dict)\n"
      ],
      "metadata": {
        "id": "08JeYYoZzEMi"
      },
      "execution_count": null,
      "outputs": []
    },
    {
      "cell_type": "code",
      "source": [
        "#22. Write a code to add a new key-value pair \"country\": \"USA\" to the dictionary {'name': 'John', 'age': 25}.\n",
        "dict = {'name': 'John', 'age': 25}\n",
        "dict[\"country\"] = \"USA\"\n",
        "print(dict)"
      ],
      "metadata": {
        "colab": {
          "base_uri": "https://localhost:8080/"
        },
        "id": "9RFdia07zMNT",
        "outputId": "1dd5602f-b519-4653-f7b2-b719471c1636"
      },
      "execution_count": 22,
      "outputs": [
        {
          "output_type": "stream",
          "name": "stdout",
          "text": [
            "{'name': 'John', 'age': 25, 'country': 'USA'}\n"
          ]
        }
      ]
    },
    {
      "cell_type": "code",
      "source": [
        "#23. Write a code to access the value associated with the key \"name\" in the dictionary {'name': 'Alice', 'age': 30}.\n",
        "dict = {'name': 'Alice', 'age': 30}\n",
        "dict[\"name\"]"
      ],
      "metadata": {
        "id": "5WTxJpSQzk01"
      },
      "execution_count": null,
      "outputs": []
    },
    {
      "cell_type": "code",
      "source": [
        "#24. Write a code to remove the key \"age\" from the dictionary {'name': 'Bob', 'age': 22, 'city': 'New York'}.\n",
        "dict = {'name': 'Bob', 'age': 22, 'city': 'New York'}\n",
        "dict.pop(\"age\")\n",
        "print(dict)"
      ],
      "metadata": {
        "id": "GUzWgTbpztu2"
      },
      "execution_count": null,
      "outputs": []
    },
    {
      "cell_type": "code",
      "source": [
        "#25.Write a code to check if the key \"city\" exists in the dictionary {'name': 'Alice', 'city': 'Paris'}.\n",
        "dict = {'name': 'Alice', 'city': 'Paris'}\n",
        "\"city\" in dict"
      ],
      "metadata": {
        "colab": {
          "base_uri": "https://localhost:8080/"
        },
        "id": "jIbM9P-A0BBg",
        "outputId": "216fb7b5-3dd6-402d-c5a1-c2fc5e60f9bf"
      },
      "execution_count": 23,
      "outputs": [
        {
          "output_type": "execute_result",
          "data": {
            "text/plain": [
              "True"
            ]
          },
          "metadata": {},
          "execution_count": 23
        }
      ]
    },
    {
      "cell_type": "code",
      "source": [
        "#26. Write a code to create a list, a tuple, and a dictionary, and print them all.\n",
        "list = [1,2,3,4,5]\n",
        "tuple = (1,2,3,4,5,6,6)\n",
        "dict = {\"name\":\"Amit\",\"age\":20,\"city\":\"Delhi\",\"profession\":\"spiderman\"}\n",
        "print(list)\n",
        "print(tuple)\n",
        "print(dict)\n"
      ],
      "metadata": {
        "colab": {
          "base_uri": "https://localhost:8080/"
        },
        "id": "KPE_U8BZ0I_6",
        "outputId": "b6505bfb-ef4d-43a7-8a89-22001ccabc28"
      },
      "execution_count": 24,
      "outputs": [
        {
          "output_type": "stream",
          "name": "stdout",
          "text": [
            "[1, 2, 3, 4, 5]\n",
            "(1, 2, 3, 4, 5, 6, 6)\n",
            "{'name': 'Amit', 'age': 20, 'city': 'Delhi', 'profession': 'spiderman'}\n"
          ]
        }
      ]
    },
    {
      "cell_type": "code",
      "source": [
        "#27. Write a code to create a list of 5 random numbers between 1 and 100, sort it in ascending order, and print the result.\n",
        "\n",
        "import random\n",
        "\n",
        "numbers = [random.randint(1, 100) for _ in range(5)]\n",
        "numbers.sort()\n",
        "\n",
        "print(numbers)\n"
      ],
      "metadata": {
        "colab": {
          "base_uri": "https://localhost:8080/"
        },
        "id": "2vnlBkCw114E",
        "outputId": "5529b1db-10b4-45a0-a991-76b04e8c7e28"
      },
      "execution_count": 27,
      "outputs": [
        {
          "output_type": "stream",
          "name": "stdout",
          "text": [
            "[13, 18, 28, 72, 91]\n"
          ]
        }
      ]
    },
    {
      "cell_type": "code",
      "source": [
        "#28. Write a code to create a list with strings and print the element at the third index.\n",
        "list = []\n",
        "for i in range(5):\n",
        "  print(\"Enter the string\")\n",
        "  list.append(input())\n",
        "print(list)"
      ],
      "metadata": {
        "colab": {
          "base_uri": "https://localhost:8080/"
        },
        "id": "qrz7jakH2HBu",
        "outputId": "58c5e3c8-d2a1-4546-f46e-5e72d598cf3f"
      },
      "execution_count": 28,
      "outputs": [
        {
          "output_type": "stream",
          "name": "stdout",
          "text": [
            "Enter the string\n",
            "string\n",
            "Enter the string\n",
            "fm\n",
            "Enter the string\n",
            "fvef\n",
            "Enter the string\n",
            "fvrfv\n",
            "Enter the string\n",
            "erfe\n",
            "['string', 'fm', 'fvef', 'fvrfv', 'erfe']\n"
          ]
        }
      ]
    },
    {
      "cell_type": "code",
      "source": [
        "#29. Write a code to combine two dictionaries into one and print the result.\n",
        "dict = {\"name\":\"Amit\",\"age\":20}\n",
        "dict2 = {\"city\":\"Delhi\",\"profession\":\"spiderman\"}\n",
        "dict.update(dict2)\n",
        "print(dict)"
      ],
      "metadata": {
        "colab": {
          "base_uri": "https://localhost:8080/"
        },
        "id": "GAxgwX_m3A5D",
        "outputId": "24a02839-7917-4c22-f52f-d68b74ed0098"
      },
      "execution_count": 31,
      "outputs": [
        {
          "output_type": "stream",
          "name": "stdout",
          "text": [
            "{'name': 'Amit', 'age': 20, 'city': 'Delhi', 'profession': 'spiderman'}\n"
          ]
        }
      ]
    },
    {
      "cell_type": "code",
      "source": [
        "#30.  Write a code to convert a list of strings into a set.\n",
        "list = ['a','b','c','d','e']\n",
        "set(list)"
      ],
      "metadata": {
        "colab": {
          "base_uri": "https://localhost:8080/"
        },
        "id": "MUDwjmde3be2",
        "outputId": "9f220378-536b-4a0e-897e-af4905c7b851"
      },
      "execution_count": 32,
      "outputs": [
        {
          "output_type": "execute_result",
          "data": {
            "text/plain": [
              "{'a', 'b', 'c', 'd', 'e'}"
            ]
          },
          "metadata": {},
          "execution_count": 32
        }
      ]
    }
  ]
}
